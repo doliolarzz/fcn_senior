{
 "cells": [
  {
   "cell_type": "code",
   "execution_count": 1,
   "metadata": {},
   "outputs": [],
   "source": [
    "from utils.units import mm_dbz, dbz_mm\n",
    "import numpy as np"
   ]
  },
  {
   "cell_type": "code",
   "execution_count": 6,
   "metadata": {},
   "outputs": [],
   "source": [
    "x = np.arange(200)"
   ]
  },
  {
   "cell_type": "code",
   "execution_count": 3,
   "metadata": {},
   "outputs": [
    {
     "data": {
      "text/plain": [
       "2.220446049250313e-16"
      ]
     },
     "execution_count": 3,
     "metadata": {},
     "output_type": "execute_result"
    }
   ],
   "source": [
    "dbz_mm(mm_dbz(0))"
   ]
  },
  {
   "cell_type": "code",
   "execution_count": 4,
   "metadata": {},
   "outputs": [
    {
     "data": {
      "text/plain": [
       "79.99999999999997"
      ]
     },
     "execution_count": 4,
     "metadata": {},
     "output_type": "execute_result"
    }
   ],
   "source": [
    "dbz_mm(mm_dbz(80))"
   ]
  },
  {
   "cell_type": "code",
   "execution_count": 7,
   "metadata": {
    "scrolled": false
   },
   "outputs": [
    {
     "data": {
      "text/plain": [
       "array([ 0.,  1.,  2.,  3.,  4.,  5.,  6.,  7.,  8.,  9., 10., 11., 12.,\n",
       "       13., 14., 15., 16., 17., 18., 19., 20., 21., 22., 23., 24., 25.,\n",
       "       26., 27., 28., 29., 30., 31., 32., 33., 34., 35., 36., 37., 38.,\n",
       "       39., 40., 41., 42., 43., 44., 45., 46., 47., 48., 49., 50., 51.,\n",
       "       52., 53., 54., 55., 56., 57., 58., 59., 60., 61., 62., 63., 64.,\n",
       "       65., 66., 67., 68., 69., 70., 71., 72., 73., 74., 75., 76., 77.,\n",
       "       78., 79., 80., 80., 80., 80., 80., 80., 80., 80., 80., 80., 80.,\n",
       "       80., 80., 80., 80., 80., 80., 80., 80., 80., 80., 80., 80., 80.,\n",
       "       80., 80., 80., 80., 80., 80., 80., 80., 80., 80., 80., 80., 80.,\n",
       "       80., 80., 80., 80., 80., 80., 80., 80., 80., 80., 80., 80., 80.,\n",
       "       80., 80., 80., 80., 80., 80., 80., 80., 80., 80., 80., 80., 80.,\n",
       "       80., 80., 80., 80., 80., 80., 80., 80., 80., 80., 80., 80., 80.,\n",
       "       80., 80., 80., 80., 80., 80., 80., 80., 80., 80., 80., 80., 80.,\n",
       "       80., 80., 80., 80., 80., 80., 80., 80., 80., 80., 80., 80., 80.,\n",
       "       80., 80., 80., 80., 80., 80., 80., 80., 80., 80., 80., 80., 80.,\n",
       "       80., 80., 80., 80., 80.])"
      ]
     },
     "execution_count": 7,
     "metadata": {},
     "output_type": "execute_result"
    }
   ],
   "source": [
    "np.round(dbz_mm(mm_dbz(x)), decimals=4)"
   ]
  },
  {
   "cell_type": "code",
   "execution_count": 17,
   "metadata": {
    "scrolled": true
   },
   "outputs": [
    {
     "data": {
      "text/plain": [
       "array([0.        , 0.15773244, 0.25      , 0.31546488, 0.36624338,\n",
       "       0.40773244, 0.44281094, 0.47319732, 0.5       , 0.52397582,\n",
       "       0.54566458, 0.56546488, 0.58367938, 0.60054338, 0.61624338,\n",
       "       0.63092975, 0.64472548, 0.65773244, 0.67003596, 0.68170826,\n",
       "       0.69281094, 0.70339702, 0.71351246, 0.72319732, 0.73248676,\n",
       "       0.74141182, 0.75      , 0.75827581, 0.76626119, 0.77397582,\n",
       "       0.78143746, 0.78866219, 0.79566458, 0.80245792, 0.80905432,\n",
       "       0.81546488, 0.82169978, 0.8277684 , 0.83367938, 0.8394407 ,\n",
       "       0.84505974, 0.85054338, 0.85589797, 0.86112946, 0.86624338,\n",
       "       0.8712449 , 0.87613884, 0.88092975, 0.88562187, 0.8902192 ,\n",
       "       0.89472548, 0.89914426, 0.90347886, 0.90773244, 0.91190796,\n",
       "       0.91600825, 0.92003596, 0.92399363, 0.92788363, 0.93170826,\n",
       "       0.93546966, 0.9391699 , 0.94281094, 0.94639463, 0.94992276,\n",
       "       0.95339702, 0.95681904, 0.96019036, 0.96351246, 0.96678676,\n",
       "       0.97001461, 0.97319732, 0.97633612, 0.97943222, 0.98248676,\n",
       "       0.98550084, 0.98847552, 0.99141182, 0.99431071, 0.99717313,\n",
       "       1.        , 1.00279218, 1.00555051, 1.00827581, 1.01096886,\n",
       "       1.01363041, 1.01626119, 1.0188619 , 1.02143322, 1.02397582,\n",
       "       1.02649032, 1.02897733, 1.03143746, 1.03387128, 1.03627934,\n",
       "       1.03866219, 1.04102035, 1.04335431, 1.04566458, 1.04795164,\n",
       "       1.05021593, 1.05245792, 1.05467803, 1.0568767 , 1.05905432,\n",
       "       1.0612113 , 1.06334803, 1.06546488, 1.06756222, 1.0696404 ,\n",
       "       1.07169978, 1.07374069, 1.07576346, 1.0777684 , 1.07975584,\n",
       "       1.08172606, 1.08367938, 1.08561607, 1.08753642, 1.0894407 ,\n",
       "       1.09132917, 1.0932021 , 1.09505974, 1.09690234, 1.09873014,\n",
       "       1.10054338, 1.10234228, 1.10412707, 1.10589797, 1.1076552 ,\n",
       "       1.10939896, 1.11112946, 1.1128469 , 1.11455148, 1.11624338,\n",
       "       1.1179228 , 1.11958991, 1.1212449 , 1.12288793, 1.12451919,\n",
       "       1.12613884, 1.12774705, 1.12934396, 1.13092975, 1.13250457,\n",
       "       1.13406856, 1.13562187, 1.13716466, 1.13869705, 1.1402192 ,\n",
       "       1.14173123, 1.14323328, 1.14472548, 1.14620796, 1.14768084,\n",
       "       1.14914426, 1.15059832, 1.15204315, 1.15347886, 1.15490557,\n",
       "       1.15632339, 1.15773244, 1.15913281, 1.16052462, 1.16190796,\n",
       "       1.16328295, 1.16464968, 1.16600825, 1.16735876, 1.1687013 ,\n",
       "       1.17003596, 1.17136285, 1.17268204, 1.17399363, 1.1752977 ,\n",
       "       1.17659434, 1.17788363, 1.17916566, 1.18044051, 1.18170826,\n",
       "       1.18296898, 1.18422276, 1.18546966, 1.18670977, 1.18794316,\n",
       "       1.1891699 , 1.19039007, 1.19160372, 1.19281094, 1.19401178,\n",
       "       1.19520633, 1.19639463, 1.19757676, 1.19875278, 1.19992276,\n",
       "       1.20108675, 1.20224482, 1.20339702, 1.20454342, 1.20568408])"
      ]
     },
     "execution_count": 17,
     "metadata": {},
     "output_type": "execute_result"
    }
   ],
   "source": [
    "(mm_dbz(x) - mm_dbz(0)) / (mm_dbz(80) - mm_dbz(0))"
   ]
  },
  {
   "cell_type": "code",
   "execution_count": 5,
   "metadata": {},
   "outputs": [
    {
     "data": {
      "text/plain": [
       "205.04833762477992"
      ]
     },
     "execution_count": 5,
     "metadata": {},
     "output_type": "execute_result"
    }
   ],
   "source": [
    "dbz_mm(60)"
   ]
  },
  {
   "cell_type": "code",
   "execution_count": 6,
   "metadata": {},
   "outputs": [],
   "source": [
    "def dbztomm(x):\n",
    "    return np.power(np.power(10, x/10) / 200, 5/8)"
   ]
  },
  {
   "cell_type": "code",
   "execution_count": 7,
   "metadata": {},
   "outputs": [
    {
     "data": {
      "text/plain": [
       "12302.900257486794"
      ]
     },
     "execution_count": 7,
     "metadata": {},
     "output_type": "execute_result"
    }
   ],
   "source": [
    "dbztomm(60) * 60"
   ]
  },
  {
   "cell_type": "code",
   "execution_count": 35,
   "metadata": {},
   "outputs": [],
   "source": [
    "import torch\n",
    "import os, glob\n",
    "import numpy as np\n",
    "from global_config import global_config\n",
    "import cv2\n",
    "from datetime import datetime\n",
    "from tqdm import tqdm\n",
    "import pandas as pd\n",
    "import pickle\n",
    "import matplotlib.pyplot as plt"
   ]
  },
  {
   "cell_type": "code",
   "execution_count": 9,
   "metadata": {},
   "outputs": [],
   "source": [
    "start_pred_fn = '2018'\n",
    "files = sorted([file for file in glob.glob(global_config['DATA_PATH'])])\n",
    "idx = 0\n",
    "if start_pred_fn != '':\n",
    "    try:\n",
    "        idx = next(i for i,f in enumerate(files) if os.path.basename(f) == start_pred_fn)\n",
    "    except:\n",
    "        idx = -1\n",
    "        print('not found')"
   ]
  },
  {
   "cell_type": "code",
   "execution_count": null,
   "metadata": {},
   "outputs": [],
   "source": [
    "data = np.fromfile(file, dtype=np.float32).reshape((global_config['DATA_HEIGHT'], global_config['DATA_WIDTH']))[h1 : h2 + 1, w1 : w2 + 1]\n",
    "\n",
    "return data"
   ]
  },
  {
   "cell_type": "code",
   "execution_count": 11,
   "metadata": {},
   "outputs": [],
   "source": [
    "df = pd.read_csv('./typhoon.csv', header=None)\n",
    "df.loc[:, 0] = pd.to_datetime(df[0], format='%d/%m/%Y %H:%M')\n",
    "df.loc[:, 1] = pd.to_datetime(df[1], format='%d/%m/%Y %H:%M')"
   ]
  },
  {
   "cell_type": "code",
   "execution_count": 3,
   "metadata": {},
   "outputs": [],
   "source": [
    "files = sorted([file for file in glob.glob(global_config['DATA_PATH'])])"
   ]
  },
  {
   "cell_type": "code",
   "execution_count": 43,
   "metadata": {},
   "outputs": [],
   "source": [
    "def rainfall_shade(im, mode='RGB'):\n",
    "    rgb = cv2.cvtColor(im.astype(np.uint8), cv2.COLOR_GRAY2RGB)\n",
    "\n",
    "    indices = np.where(im <= 0.2)\n",
    "    rgb[indices[0], indices[1], :] = [0, 0, 0]\n",
    "\n",
    "    indices = np.where(im > 0.2)\n",
    "    rgb[indices[0], indices[1], :] = [242, 242, 254]\n",
    "\n",
    "    indices = np.where(im > 1)\n",
    "    rgb[indices[0], indices[1], :] = [170, 209, 251]\n",
    "\n",
    "    indices = np.where(im > 5)\n",
    "    rgb[indices[0], indices[1], :] = [66, 140, 247]\n",
    "\n",
    "    indices = np.where(im > 10)\n",
    "    rgb[indices[0], indices[1], :] = [15, 70, 245]\n",
    "\n",
    "    indices = np.where(im > 20)\n",
    "    rgb[indices[0], indices[1], :] = [250, 244, 81]\n",
    "\n",
    "    indices = np.where(im > 30)\n",
    "    rgb[indices[0], indices[1], :] = [241, 157, 56]\n",
    "\n",
    "    indices = np.where(im > 50)\n",
    "    rgb[indices[0], indices[1], :] = [235, 65, 37]\n",
    "\n",
    "    indices = np.where(im > 60)\n",
    "    rgb[indices[0], indices[1], :] = [159, 33, 99]\n",
    "    if mode=='BGR':\n",
    "        rgb = cv2.cvtColor(rgb, cv2.COLOR_RGB2BGR)\n",
    "    return rgb"
   ]
  },
  {
   "cell_type": "code",
   "execution_count": 45,
   "metadata": {},
   "outputs": [
    {
     "data": {
      "image/png": "[encoded data removed]",
      "text/plain": [
       "<Figure size 432x288 with 1 Axes>"
      ]
     },
     "metadata": {
      "needs_background": "light"
     },
     "output_type": "display_data"
    },
    {
     "name": "stdout",
     "output_type": "stream",
     "text": [
      "0.013903576078869048\n"
     ]
    },
    {
     "data": {
      "image/png": "[encoded data removed]",
      "text/plain": [
       "<Figure size 432x288 with 1 Axes>"
      ]
     },
     "metadata": {
      "needs_background": "light"
     },
     "output_type": "display_data"
    },
    {
     "name": "stdout",
     "output_type": "stream",
     "text": [
      "0.014134463355654762\n"
     ]
    },
    {
     "ename": "KeyboardInterrupt",
     "evalue": "",
     "output_type": "error",
     "traceback": [
      "\u001b[0;31m---------------------------------------------------------------------------\u001b[0m",
      "\u001b[0;31mKeyboardInterrupt\u001b[0m                         Traceback (most recent call last)",
      "\u001b[0;32m<ipython-input-45-1c1650431a58>\u001b[0m in \u001b[0;36m<module>\u001b[0;34m\u001b[0m\n\u001b[1;32m     13\u001b[0m             \u001b[0;32mif\u001b[0m \u001b[0mper\u001b[0m \u001b[0;34m>\u001b[0m \u001b[0mmax_per\u001b[0m\u001b[0;34m:\u001b[0m\u001b[0;34m\u001b[0m\u001b[0;34m\u001b[0m\u001b[0m\n\u001b[1;32m     14\u001b[0m                 \u001b[0mmax_per\u001b[0m \u001b[0;34m=\u001b[0m \u001b[0mper\u001b[0m\u001b[0;34m\u001b[0m\u001b[0;34m\u001b[0m\u001b[0m\n\u001b[0;32m---> 15\u001b[0;31m                 \u001b[0mplt\u001b[0m\u001b[0;34m.\u001b[0m\u001b[0mimshow\u001b[0m\u001b[0;34m(\u001b[0m\u001b[0mrainfall_shade\u001b[0m\u001b[0;34m(\u001b[0m\u001b[0mdata\u001b[0m\u001b[0;34m.\u001b[0m\u001b[0mreshape\u001b[0m\u001b[0;34m(\u001b[0m\u001b[0;34m(\u001b[0m\u001b[0;36m3360\u001b[0m\u001b[0;34m,\u001b[0m \u001b[0;36m2560\u001b[0m\u001b[0;34m)\u001b[0m\u001b[0;34m)\u001b[0m\u001b[0;34m)\u001b[0m\u001b[0;34m)\u001b[0m\u001b[0;34m\u001b[0m\u001b[0;34m\u001b[0m\u001b[0m\n\u001b[0m\u001b[1;32m     16\u001b[0m                 \u001b[0mplt\u001b[0m\u001b[0;34m.\u001b[0m\u001b[0mshow\u001b[0m\u001b[0;34m(\u001b[0m\u001b[0;34m)\u001b[0m\u001b[0;34m\u001b[0m\u001b[0;34m\u001b[0m\u001b[0m\n\u001b[1;32m     17\u001b[0m                 \u001b[0mprint\u001b[0m\u001b[0;34m(\u001b[0m\u001b[0mper\u001b[0m\u001b[0;34m)\u001b[0m\u001b[0;34m\u001b[0m\u001b[0;34m\u001b[0m\u001b[0m\n",
      "\u001b[0;32m<ipython-input-43-da1d63d5eca6>\u001b[0m in \u001b[0;36mrainfall_shade\u001b[0;34m(im, mode)\u001b[0m\n\u001b[1;32m      3\u001b[0m \u001b[0;34m\u001b[0m\u001b[0m\n\u001b[1;32m      4\u001b[0m     \u001b[0mindices\u001b[0m \u001b[0;34m=\u001b[0m \u001b[0mnp\u001b[0m\u001b[0;34m.\u001b[0m\u001b[0mwhere\u001b[0m\u001b[0;34m(\u001b[0m\u001b[0mim\u001b[0m \u001b[0;34m<=\u001b[0m \u001b[0;36m0.2\u001b[0m\u001b[0;34m)\u001b[0m\u001b[0;34m\u001b[0m\u001b[0;34m\u001b[0m\u001b[0m\n\u001b[0;32m----> 5\u001b[0;31m     \u001b[0mrgb\u001b[0m\u001b[0;34m[\u001b[0m\u001b[0mindices\u001b[0m\u001b[0;34m[\u001b[0m\u001b[0;36m0\u001b[0m\u001b[0;34m]\u001b[0m\u001b[0;34m,\u001b[0m \u001b[0mindices\u001b[0m\u001b[0;34m[\u001b[0m\u001b[0;36m1\u001b[0m\u001b[0;34m]\u001b[0m\u001b[0;34m,\u001b[0m \u001b[0;34m:\u001b[0m\u001b[0;34m]\u001b[0m \u001b[0;34m=\u001b[0m \u001b[0;34m[\u001b[0m\u001b[0;36m0\u001b[0m\u001b[0;34m,\u001b[0m \u001b[0;36m0\u001b[0m\u001b[0;34m,\u001b[0m \u001b[0;36m0\u001b[0m\u001b[0;34m]\u001b[0m\u001b[0;34m\u001b[0m\u001b[0;34m\u001b[0m\u001b[0m\n\u001b[0m\u001b[1;32m      6\u001b[0m \u001b[0;34m\u001b[0m\u001b[0m\n\u001b[1;32m      7\u001b[0m     \u001b[0mindices\u001b[0m \u001b[0;34m=\u001b[0m \u001b[0mnp\u001b[0m\u001b[0;34m.\u001b[0m\u001b[0mwhere\u001b[0m\u001b[0;34m(\u001b[0m\u001b[0mim\u001b[0m \u001b[0;34m>\u001b[0m \u001b[0;36m0.2\u001b[0m\u001b[0;34m)\u001b[0m\u001b[0;34m\u001b[0m\u001b[0;34m\u001b[0m\u001b[0m\n",
      "\u001b[0;31mKeyboardInterrupt\u001b[0m: "
     ]
    }
   ],
   "source": [
    "typhoon_files = []\n",
    "percents = []\n",
    "max_per = -1\n",
    "for file in files:\n",
    "    fn = os.path.basename(file)\n",
    "    dt = datetime.strptime(fn[:-4], '%Y%m%d_%H%M')\n",
    "    for i in range(df.shape[0]):\n",
    "        if df.iloc[i, 0] <= dt <= df.iloc[i, 1]:\n",
    "            data = np.fromfile(file, dtype=np.float32)\n",
    "#             plt.hist(data.reshape(-1))\n",
    "#             plt.show()\n",
    "            per = np.sum(data>=1) / data.size\n",
    "            if per > max_per:\n",
    "                max_per = per\n",
    "#                 plt.imshow(rainfall_shade(data.reshape((3360, 2560))))\n",
    "#                 plt.show()\n",
    "                print(per)\n",
    "            percents.append(per)\n",
    "            if per >= 0.01:\n",
    "                typhoon_files.append(file)\n",
    "                break"
   ]
  },
  {
   "cell_type": "code",
   "execution_count": 27,
   "metadata": {},
   "outputs": [],
   "source": [
    "with open(\"typhoon_file_list.txt\", \"w\") as f:\n",
    "    for file in typhoon_files:\n",
    "        f.write(file+'\\n')\n",
    "with open('typhoon_file_list.pkl', 'wb') as f:\n",
    "    pickle.dump(typhoon_files, f)"
   ]
  },
  {
   "cell_type": "code",
   "execution_count": 28,
   "metadata": {},
   "outputs": [
    {
     "data": {
      "text/plain": [
       "0.0"
      ]
     },
     "execution_count": 28,
     "metadata": {},
     "output_type": "execute_result"
    }
   ],
   "source": [
    "len(typhoon_files) / len(files) * 100"
   ]
  },
  {
   "cell_type": "code",
   "execution_count": 30,
   "metadata": {},
   "outputs": [
    {
     "data": {
      "text/plain": [
       "[]"
      ]
     },
     "execution_count": 30,
     "metadata": {},
     "output_type": "execute_result"
    }
   ],
   "source": [
    "typhoon_files"
   ]
  },
  {
   "cell_type": "code",
   "execution_count": null,
   "metadata": {},
   "outputs": [],
   "source": []
  }
 ],
 "metadata": {
  "kernelspec": {
   "display_name": "Python 3",
   "language": "python",
   "name": "python3"
  },
  "language_info": {
   "codemirror_mode": {
    "name": "ipython",
    "version": 3
   },
   "file_extension": ".py",
   "mimetype": "text/x-python",
   "name": "python",
   "nbconvert_exporter": "python",
   "pygments_lexer": "ipython3",
   "version": "3.7.5"
  }
 },
 "nbformat": 4,
 "nbformat_minor": 2
}
