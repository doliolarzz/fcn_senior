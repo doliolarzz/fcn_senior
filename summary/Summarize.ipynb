{
 "cells": [
  {
   "cell_type": "code",
   "execution_count": 1,
   "metadata": {},
   "outputs": [],
   "source": [
    "import argparse\n",
    "import datetime\n",
    "import os, sys\n",
    "import os.path as osp\n",
    "sys.path.insert(0, '../')\n",
    "import torch\n",
    "import yaml\n",
    "import numpy as np\n",
    "\n",
    "from models.unet.unet_model import UNet\n",
    "from utils.generators import DataGenerator\n",
    "from global_config import global_config\n",
    "from summary.unet_test import test"
   ]
  },
  {
   "cell_type": "code",
   "execution_count": 2,
   "metadata": {},
   "outputs": [],
   "source": [
    "save_dir = '/home/warit/fcn_senior/experiments/unet/unet_logs/logs_3_1_03011438'\n",
    "config = {\n",
    "    'DEVICE': torch.device('cuda:0'),\n",
    "    'IN_LEN': 3,\n",
    "    'OUT_LEN': 1,\n",
    "    'BATCH_SIZE': 4,\n",
    "    'SCALE': 0.25,\n",
    "    'TASK': 'reg',\n",
    "    'DIM': '2D',\n",
    "}"
   ]
  },
  {
   "cell_type": "code",
   "execution_count": 3,
   "metadata": {},
   "outputs": [
    {
     "name": "stderr",
     "output_type": "stream",
     "text": [
      "100%|██████████| 1/1 [00:58<00:00, 58.51s/it]\n"
     ]
    }
   ],
   "source": [
    "data_loader = DataGenerator(data_path=global_config['DATA_PATH'], config=config)\n",
    "n_classes = 1\n",
    "if 'seg' in config['TASK']:\n",
    "    n_classes = 4\n",
    "model = UNet(n_channels=config['IN_LEN'], n_classes=n_classes)\n",
    "model = torch.nn.DataParallel(model, device_ids=[0, 2])\n",
    "model = model.to(config['DEVICE'])\n",
    "weight_path = save_dir + '/model_8000.pth'\n",
    "test(model, weight_path, data_loader, config, save_dir, crop=None)"
   ]
  },
  {
   "cell_type": "code",
   "execution_count": 4,
   "metadata": {},
   "outputs": [
    {
     "data": {
      "text/plain": [
       "array([1.5000716227218172, 6.6559692599819105, 0.41683396408041623,\n",
       "       57.5355829136297,\n",
       "       array([97.50902859, 52.54113036,  8.12530621,  0.59049786])],\n",
       "      dtype=object)"
      ]
     },
     "execution_count": 4,
     "metadata": {},
     "output_type": "execute_result"
    }
   ],
   "source": [
    "np.load(save_dir+'/result.npz', allow_pickle=True)['r']"
   ]
  },
  {
   "cell_type": "code",
   "execution_count": 5,
   "metadata": {},
   "outputs": [],
   "source": [
    "# array([1.619398721481633, 6.975028940888992, 0.5912824876899682,\n",
    "#        54.93729698329912,\n",
    "#        array([97.51818811, 51.28427175,  6.3821027 ,  2.25145917])],\n",
    "#       dtype=object)"
   ]
  }
 ],
 "metadata": {
  "kernelspec": {
   "display_name": "Python 3",
   "language": "python",
   "name": "python3"
  },
  "language_info": {
   "codemirror_mode": {
    "name": "ipython",
    "version": 3
   },
   "file_extension": ".py",
   "mimetype": "text/x-python",
   "name": "python",
   "nbconvert_exporter": "python",
   "pygments_lexer": "ipython3",
   "version": "3.7.5"
  }
 },
 "nbformat": 4,
 "nbformat_minor": 2
}
